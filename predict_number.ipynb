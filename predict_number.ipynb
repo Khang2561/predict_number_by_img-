{
  "cells": [
    {
      "cell_type": "markdown",
      "metadata": {
        "id": "view-in-github",
        "colab_type": "text"
      },
      "source": [
        "<a href=\"https://colab.research.google.com/github/Khang2561/predict_number_by_img-/blob/main/predict_number.ipynb\" target=\"_parent\"><img src=\"https://colab.research.google.com/assets/colab-badge.svg\" alt=\"Open In Colab\"/></a>"
      ]
    },
    {
      "cell_type": "code",
      "execution_count": null,
      "metadata": {
        "id": "fxuqChj-jOCM"
      },
      "outputs": [],
      "source": [
        "#import lib\n",
        "import numpy as np\n",
        "import pandas as pd\n",
        "import matplotlib.pyplot as plt\n"
      ]
    },
    {
      "cell_type": "markdown",
      "source": [
        "#Mục 1: Load dữ liệu\n",
        "-> MNIST là viết tắt của Modified National Institute of Standards and Technology"
      ],
      "metadata": {
        "id": "s8zaYu00x1IL"
      }
    },
    {
      "cell_type": "code",
      "execution_count": null,
      "metadata": {
        "id": "V3Cu6FSzjhVm"
      },
      "outputs": [],
      "source": [
        "#import thư viện ảnh\n",
        "from keras.datasets.mnist import load_data\n",
        "#tải dữ liệu đã có sẳn và chia thành 2 tập train và test\n",
        "(X_train, y_train), (X_test, y_test) = load_data()"
      ]
    },
    {
      "cell_type": "markdown",
      "source": [
        "#Mục 2: Chuẩn bị dữ liệu '\n",
        "-> Số lượng ảnh của tập train là 60000 và test là 10000, tỷ lệ train/test là 6/1\n",
        "-> Kích thức của mỗi ảnh trên tập train và test là 28x28 pixel\n",
        "-> Số nhãn trong tập train và test là 10 gồm 0,1,2,3,4,5,6,7,8,9"
      ],
      "metadata": {
        "id": "rRakYmgWynEN"
      }
    },
    {
      "cell_type": "code",
      "execution_count": null,
      "metadata": {
        "colab": {
          "base_uri": "https://localhost:8080/",
          "height": 469
        },
        "id": "o6512b99jrC3",
        "outputId": "af6a0b82-bbf8-48ab-9c94-9cbdb1624c7c"
      },
      "outputs": [
        {
          "output_type": "execute_result",
          "data": {
            "text/plain": [
              "Text(0.5, 1.0, '5')"
            ]
          },
          "metadata": {},
          "execution_count": 61
        },
        {
          "output_type": "display_data",
          "data": {
            "text/plain": [
              "<Figure size 640x480 with 1 Axes>"
            ],
            "image/png": "[encoded data removed]"
          },
          "metadata": {}
        }
      ],
      "source": [
        "plt.imshow(X_train[0],cmap = 'gray')#hiển thị ảnh trắng đen đầu tiên của tập X_train\n",
        "plt.title(y_train[0])#hiển thị giá trị đầu tiên của biến y_train"
      ]
    },
    {
      "cell_type": "code",
      "execution_count": null,
      "metadata": {
        "colab": {
          "base_uri": "https://localhost:8080/",
          "height": 469
        },
        "id": "r84ylztfkJ2n",
        "outputId": "867f8abf-3d79-4cb5-a796-eff067220bda"
      },
      "outputs": [
        {
          "output_type": "execute_result",
          "data": {
            "text/plain": [
              "Text(0.5, 1.0, '7')"
            ]
          },
          "metadata": {},
          "execution_count": 62
        },
        {
          "output_type": "display_data",
          "data": {
            "text/plain": [
              "<Figure size 640x480 with 1 Axes>"
            ],
            "image/png": "[encoded data removed]"
          },
          "metadata": {}
        }
      ],
      "source": [
        "plt.imshow(X_test[0],cmap = 'gray')#hiển thị ảnh trắng đen đầu tiên của tập X_test\n",
        "plt.title(y_test[0])#HHiển thị nhãn đầu tiên của tập y_test"
      ]
    },
    {
      "cell_type": "code",
      "execution_count": null,
      "metadata": {
        "colab": {
          "base_uri": "https://localhost:8080/"
        },
        "id": "NLPZAom4kBaY",
        "outputId": "d2415118-59e4-49f6-ad3e-1b8f45058e7a"
      },
      "outputs": [
        {
          "output_type": "execute_result",
          "data": {
            "text/plain": [
              "(60000, 28, 28)"
            ]
          },
          "metadata": {},
          "execution_count": 63
        }
      ],
      "source": [
        "X_train.shape#xuất ra hình dáng của tập dữ liệu X_train"
      ]
    },
    {
      "cell_type": "code",
      "execution_count": null,
      "metadata": {
        "colab": {
          "base_uri": "https://localhost:8080/"
        },
        "id": "o_6yeWZOla_h",
        "outputId": "09c95811-aafd-4187-9a4f-2bcf83201218"
      },
      "outputs": [
        {
          "output_type": "execute_result",
          "data": {
            "text/plain": [
              "(28, 28)"
            ]
          },
          "metadata": {},
          "execution_count": 64
        }
      ],
      "source": [
        "X_train[0].shape#xuất ra hình diến của ảnh đầu tiên"
      ]
    },
    {
      "cell_type": "code",
      "execution_count": null,
      "metadata": {
        "colab": {
          "base_uri": "https://localhost:8080/"
        },
        "id": "1g12nVZklyOE",
        "outputId": "8c0864fa-78ca-4301-9d64-00a788e9dfa0"
      },
      "outputs": [
        {
          "output_type": "execute_result",
          "data": {
            "text/plain": [
              "(10000, 28, 28)"
            ]
          },
          "metadata": {},
          "execution_count": 65
        }
      ],
      "source": [
        "X_test.shape#xuất ra hình dạng của tập dữ liệu X_Test"
      ]
    },
    {
      "cell_type": "code",
      "execution_count": null,
      "metadata": {
        "colab": {
          "base_uri": "https://localhost:8080/"
        },
        "id": "nEzi5lK6l0me",
        "outputId": "49ee78ab-ec4e-441d-b951-4f86927704a3"
      },
      "outputs": [
        {
          "output_type": "execute_result",
          "data": {
            "text/plain": [
              "(28, 28)"
            ]
          },
          "metadata": {},
          "execution_count": 66
        }
      ],
      "source": [
        "X_test[0].shape#xuất ra hình diến của ảnh đầu tiên"
      ]
    },
    {
      "cell_type": "code",
      "execution_count": null,
      "metadata": {
        "colab": {
          "base_uri": "https://localhost:8080/"
        },
        "id": "vYVbLmMol3yt",
        "outputId": "a6095d3f-13eb-42c6-bcf6-b805931f7b66"
      },
      "outputs": [
        {
          "output_type": "execute_result",
          "data": {
            "text/plain": [
              "(60000,)"
            ]
          },
          "metadata": {},
          "execution_count": 67
        }
      ],
      "source": [
        "y_train.shape#số lượng nhãn có trong tập y_train"
      ]
    },
    {
      "cell_type": "code",
      "execution_count": null,
      "metadata": {
        "colab": {
          "base_uri": "https://localhost:8080/"
        },
        "id": "fYKnU9Vsmdmr",
        "outputId": "48e07eb1-ab87-4a88-9b4a-5ec889be9f09"
      },
      "outputs": [
        {
          "output_type": "execute_result",
          "data": {
            "text/plain": [
              "(10000,)"
            ]
          },
          "metadata": {},
          "execution_count": 68
        }
      ],
      "source": [
        "y_test.shape#số lượng nhãn có trong tập y_test"
      ]
    },
    {
      "cell_type": "code",
      "execution_count": null,
      "metadata": {
        "id": "XFtno6XVmfZr"
      },
      "outputs": [],
      "source": [
        "#xuất ra số lượng mỗi nhãn có trong tập y_train\n",
        "label_list = dict()\n",
        "\n",
        "for i in range(0,10):\n",
        "  label_list[i] = list(y_train).count(i)"
      ]
    },
    {
      "cell_type": "code",
      "execution_count": null,
      "metadata": {
        "colab": {
          "base_uri": "https://localhost:8080/"
        },
        "id": "9u7gxxXxm0XV",
        "outputId": "31a735f2-74d0-4854-a861-3c5dab4e33e4"
      },
      "outputs": [
        {
          "output_type": "execute_result",
          "data": {
            "text/plain": [
              "{0: 5923,\n",
              " 1: 6742,\n",
              " 2: 5958,\n",
              " 3: 6131,\n",
              " 4: 5842,\n",
              " 5: 5421,\n",
              " 6: 5918,\n",
              " 7: 6265,\n",
              " 8: 5851,\n",
              " 9: 5949}"
            ]
          },
          "metadata": {},
          "execution_count": 70
        }
      ],
      "source": [
        "label_list"
      ]
    },
    {
      "cell_type": "code",
      "execution_count": null,
      "metadata": {
        "colab": {
          "base_uri": "https://localhost:8080/",
          "height": 491
        },
        "id": "Mp5Tu4iApC7z",
        "outputId": "0950422a-1db3-4659-cff0-7dd3d97e476d"
      },
      "outputs": [
        {
          "output_type": "execute_result",
          "data": {
            "text/plain": [
              "Text(0.5, 0, 'Nhãn')"
            ]
          },
          "metadata": {},
          "execution_count": 71
        },
        {
          "output_type": "display_data",
          "data": {
            "text/plain": [
              "<Figure size 640x480 with 1 Axes>"
            ],
            "image/png": "[encoded data removed]"
          },
          "metadata": {}
        }
      ],
      "source": [
        "#vẽ biểu đồ cột các nhãn có trong tập y_train\n",
        "plt.bar(label_list.keys(),label_list.values(),color='blue')\n",
        "plt.title(\"Biểu đồ số lượng từng label \")\n",
        "plt.ylabel(\"Số lượng\")\n",
        "plt.xlabel(\"Nhãn\")"
      ]
    },
    {
      "cell_type": "code",
      "execution_count": null,
      "metadata": {
        "colab": {
          "base_uri": "https://localhost:8080/",
          "height": 431
        },
        "id": "p7b1BPeXpQtq",
        "outputId": "7e9c3163-bafc-4a89-fcbf-747ca166df1e"
      },
      "outputs": [
        {
          "output_type": "display_data",
          "data": {
            "text/plain": [
              "<Figure size 640x480 with 1 Axes>"
            ],
            "image/png": "[encoded data removed]"
          },
          "metadata": {}
        }
      ],
      "source": [
        "#vẻ biểu đồ hình tròn các nhãn có trong tập y_trian\n",
        "plt.pie(labels=label_list.keys(),x=label_list.values())\n",
        "plt.title(\"Biểu đồ số lượng từng label \")\n",
        "plt.legend(ncol=1);"
      ]
    },
    {
      "cell_type": "code",
      "execution_count": null,
      "metadata": {
        "colab": {
          "base_uri": "https://localhost:8080/"
        },
        "id": "pyUHIdb8rE1S",
        "outputId": "f3f99ae3-c62c-47b3-a38f-8a053a565d26"
      },
      "outputs": [
        {
          "output_type": "execute_result",
          "data": {
            "text/plain": [
              "(60000, 784)"
            ]
          },
          "metadata": {},
          "execution_count": 73
        }
      ],
      "source": [
        "#biến đổi kích thức của dữ liệu để đưa vào model\n",
        "X_train_reshaped = X_train.reshape(-1, 784)\n",
        "X_train_reshaped.shape"
      ]
    },
    {
      "cell_type": "code",
      "execution_count": null,
      "metadata": {
        "colab": {
          "base_uri": "https://localhost:8080/"
        },
        "id": "fG56bgGIsZ1o",
        "outputId": "8684b1d3-af7d-43ee-f744-c23cfef69816"
      },
      "outputs": [
        {
          "output_type": "execute_result",
          "data": {
            "text/plain": [
              "(10000, 784)"
            ]
          },
          "metadata": {},
          "execution_count": 74
        }
      ],
      "source": [
        "#biến đổi kích thức của dữ liệu để đưa vào model\n",
        "X_test_reshaped = X_test.reshape(-1, 784)\n",
        "X_test_reshaped.shape"
      ]
    },
    {
      "cell_type": "code",
      "source": [],
      "metadata": {
        "id": "UXvOM9001SDC"
      },
      "execution_count": null,
      "outputs": []
    },
    {
      "cell_type": "markdown",
      "source": [
        "-> mỗi điểm dữ liệu có số chiều là 794,1, các số -1 và 784 nghĩa là hình ảnh đã được kéo dãng thành ma trận 1 chiều"
      ],
      "metadata": {
        "id": "V3YoqqX01St_"
      }
    },
    {
      "cell_type": "code",
      "execution_count": null,
      "metadata": {
        "id": "XcV4pjFMtwbz"
      },
      "outputs": [],
      "source": [
        "# biến mỗi nhãn thành một ma trận 1 chiều với 10 phần tử, nếu nhã thuộc phần tử nào thì số 1 của nhãn đó sẻ được bật lên\n",
        "from tensorflow.keras.utils import to_categorical\n",
        "y_train = to_categorical(y_train, num_classes=10)"
      ]
    },
    {
      "cell_type": "code",
      "execution_count": null,
      "metadata": {
        "colab": {
          "base_uri": "https://localhost:8080/"
        },
        "id": "TuPa3uX5vinU",
        "outputId": "0e7c6a82-f667-4ea9-d3ac-3b8847d6c5ab"
      },
      "outputs": [
        {
          "output_type": "execute_result",
          "data": {
            "text/plain": [
              "array([0., 0., 0., 0., 0., 1., 0., 0., 0., 0.], dtype=float32)"
            ]
          },
          "metadata": {},
          "execution_count": 76
        }
      ],
      "source": [
        "y_train[0]"
      ]
    },
    {
      "cell_type": "markdown",
      "source": [
        "#3. Xây dựng mạng neural bắng keras"
      ],
      "metadata": {
        "id": "_gLOq8xQ164g"
      }
    },
    {
      "cell_type": "code",
      "execution_count": null,
      "metadata": {
        "id": "TM9smcbDv5Aw"
      },
      "outputs": [],
      "source": [
        "#chuỗi các layer\n",
        "from keras.models import Sequential\n",
        "model = Sequential()\n"
      ]
    },
    {
      "cell_type": "code",
      "execution_count": null,
      "metadata": {
        "colab": {
          "base_uri": "https://localhost:8080/"
        },
        "id": "M1Yjapx_w-np",
        "outputId": "d37c0fc7-dcf7-4034-f6b1-9a750e5cda5c"
      },
      "outputs": [
        {
          "output_type": "stream",
          "name": "stdout",
          "text": [
            "Model: \"sequential_2\"\n",
            "_________________________________________________________________\n",
            " Layer (type)                Output Shape              Param #   \n",
            "=================================================================\n",
            " dense_7 (Dense)             (None, 784)               615440    \n",
            "                                                                 \n",
            " dense_8 (Dense)             (None, 10)                7850      \n",
            "                                                                 \n",
            "=================================================================\n",
            "Total params: 623290 (2.38 MB)\n",
            "Trainable params: 623290 (2.38 MB)\n",
            "Non-trainable params: 0 (0.00 Byte)\n",
            "_________________________________________________________________\n"
          ]
        }
      ],
      "source": [
        "# thêm layer vào model\n",
        "from keras.layers import Dense\n",
        "Dense(784, input_shape=(784, ))#784 vì đầu vô là ma trận 1 chiều vói 784 giá trị\n",
        "model.add(Dense(784, input_shape=(784, )))\n",
        "model.add(Dense(10, input_shape=(784, )))#10 vì đầu ra là một ma trận với 10 giá trị\n",
        "model.summary()"
      ]
    },
    {
      "cell_type": "code",
      "execution_count": null,
      "metadata": {
        "colab": {
          "base_uri": "https://localhost:8080/"
        },
        "id": "573OD5C63PwI",
        "outputId": "8f4c641b-80fc-4a80-e094-0c7c11536515"
      },
      "outputs": [
        {
          "output_type": "execute_result",
          "data": {
            "text/plain": [
              "TensorShape([None, 10])"
            ]
          },
          "metadata": {},
          "execution_count": 79
        }
      ],
      "source": [
        "#output là một ma trận 1 chiều vói 10 giá trị\n",
        "model.output.shape"
      ]
    },
    {
      "cell_type": "markdown",
      "source": [
        "#4. Huấn luyện mô hình"
      ],
      "metadata": {
        "id": "JEcxjiI62whd"
      }
    },
    {
      "cell_type": "code",
      "execution_count": null,
      "metadata": {
        "id": "I2JUl-cVxOrU"
      },
      "outputs": [],
      "source": [
        "#tối ưu hàm loss\n",
        "from tensorflow.keras.optimizers import Adam\n",
        "optimizer = Adam(learning_rate=0.01)"
      ]
    },
    {
      "cell_type": "code",
      "execution_count": null,
      "metadata": {
        "id": "cjkU1ZExx4VS"
      },
      "outputs": [],
      "source": [
        "from tensorflow.keras.losses import BinaryCrossentropy\n",
        "loss = BinaryCrossentropy()"
      ]
    },
    {
      "cell_type": "code",
      "execution_count": null,
      "metadata": {
        "id": "IFjGYWlW45JQ"
      },
      "outputs": [],
      "source": [
        "model.compile(optimizer=optimizer, loss=loss, metrics=['accuracy'])"
      ]
    },
    {
      "cell_type": "code",
      "execution_count": null,
      "metadata": {
        "colab": {
          "base_uri": "https://localhost:8080/"
        },
        "id": "IXBjco7d5ffn",
        "outputId": "257d24ab-d3a7-4807-91ea-034f0b07509e"
      },
      "outputs": [
        {
          "output_type": "stream",
          "name": "stdout",
          "text": [
            "Epoch 1/10\n",
            "469/469 [==============================] - 3s 4ms/step - loss: 3.2007 - accuracy: 0.0977\n",
            "Epoch 2/10\n",
            "469/469 [==============================] - 3s 6ms/step - loss: 2.7679 - accuracy: 0.0975\n",
            "Epoch 3/10\n",
            "469/469 [==============================] - 3s 6ms/step - loss: 2.7679 - accuracy: 0.0975\n",
            "Epoch 4/10\n",
            "469/469 [==============================] - 3s 6ms/step - loss: 2.7679 - accuracy: 0.0975\n",
            "Epoch 5/10\n",
            "469/469 [==============================] - 3s 7ms/step - loss: 2.7679 - accuracy: 0.0975\n",
            "Epoch 6/10\n",
            "469/469 [==============================] - 3s 7ms/step - loss: 2.7679 - accuracy: 0.0975\n",
            "Epoch 7/10\n",
            "469/469 [==============================] - 3s 6ms/step - loss: 2.7679 - accuracy: 0.0975\n",
            "Epoch 8/10\n",
            "469/469 [==============================] - 3s 6ms/step - loss: 2.7679 - accuracy: 0.0975\n",
            "Epoch 9/10\n",
            "469/469 [==============================] - 3s 6ms/step - loss: 2.7679 - accuracy: 0.0975\n",
            "Epoch 10/10\n",
            "469/469 [==============================] - 4s 8ms/step - loss: 2.7679 - accuracy: 0.0975\n"
          ]
        },
        {
          "output_type": "execute_result",
          "data": {
            "text/plain": [
              "<keras.src.callbacks.History at 0x7c9d877cda80>"
            ]
          },
          "metadata": {},
          "execution_count": 83
        }
      ],
      "source": [
        "model.fit(X_train_reshaped, y_train, batch_size=128, epochs=10)"
      ]
    },
    {
      "cell_type": "markdown",
      "source": [
        "#5 Đánh giá mô hình"
      ],
      "metadata": {
        "id": "XxLcnhVG22AH"
      }
    },
    {
      "cell_type": "code",
      "execution_count": null,
      "metadata": {
        "colab": {
          "base_uri": "https://localhost:8080/"
        },
        "id": "DsjViyMx5jo6",
        "outputId": "991393dd-cc66-4495-e091-b19c53386111"
      },
      "outputs": [
        {
          "output_type": "stream",
          "name": "stdout",
          "text": [
            "313/313 [==============================] - 1s 2ms/step\n"
          ]
        }
      ],
      "source": [
        "y_pred = model.predict(X_test_reshaped)"
      ]
    },
    {
      "cell_type": "code",
      "source": [
        "y_pred_label = np.argmax(y_pred, axis=-1)"
      ],
      "metadata": {
        "id": "HMGEBtydD0c1"
      },
      "execution_count": null,
      "outputs": []
    },
    {
      "cell_type": "code",
      "source": [
        "from sklearn.metrics import accuracy_score\n",
        "accuracy_score(y_test, y_pred_label)*100"
      ],
      "metadata": {
        "colab": {
          "base_uri": "https://localhost:8080/"
        },
        "id": "1WHB0t2BD2Ez",
        "outputId": "f9b42408-ff1e-417d-873f-a840353ed098"
      },
      "execution_count": null,
      "outputs": [
        {
          "output_type": "execute_result",
          "data": {
            "text/plain": [
              "9.74"
            ]
          },
          "metadata": {},
          "execution_count": 86
        }
      ]
    },
    {
      "cell_type": "markdown",
      "source": [
        "#6. Lưu mô hình"
      ],
      "metadata": {
        "id": "QRGIThOg3ANo"
      }
    },
    {
      "cell_type": "code",
      "source": [
        "model.save('my_model.h5')"
      ],
      "metadata": {
        "colab": {
          "base_uri": "https://localhost:8080/"
        },
        "id": "j7ZdFbdhEWfy",
        "outputId": "a0bbc4f8-1fb6-462d-bf13-4d75c3c44b6d"
      },
      "execution_count": null,
      "outputs": [
        {
          "output_type": "stream",
          "name": "stderr",
          "text": [
            "/usr/local/lib/python3.10/dist-packages/keras/src/engine/training.py:3079: UserWarning: You are saving your model as an HDF5 file via `model.save()`. This file format is considered legacy. We recommend using instead the native Keras format, e.g. `model.save('my_model.keras')`.\n",
            "  saving_api.save_model(\n"
          ]
        }
      ]
    },
    {
      "cell_type": "markdown",
      "source": [
        "#7. Một số thao tác xử lý khác với mạng neural"
      ],
      "metadata": {
        "id": "SUNXawP13IBO"
      }
    },
    {
      "cell_type": "code",
      "source": [
        "from keras.models import load_model\n",
        "model = load_model('my_model.h5')\n"
      ],
      "metadata": {
        "id": "mgKmfpPmD5TD"
      },
      "execution_count": null,
      "outputs": []
    },
    {
      "cell_type": "code",
      "source": [
        "model.layers"
      ],
      "metadata": {
        "colab": {
          "base_uri": "https://localhost:8080/"
        },
        "id": "otetHezCEPyr",
        "outputId": "7f101d4c-d1eb-4c7f-f182-563edd01cb79"
      },
      "execution_count": null,
      "outputs": [
        {
          "output_type": "execute_result",
          "data": {
            "text/plain": [
              "[<keras.src.layers.core.dense.Dense at 0x7c9d8560d150>,\n",
              " <keras.src.layers.core.dense.Dense at 0x7c9d8560d1b0>]"
            ]
          },
          "metadata": {},
          "execution_count": 89
        }
      ]
    },
    {
      "cell_type": "code",
      "source": [
        "model.layers[0]\n",
        "\n"
      ],
      "metadata": {
        "colab": {
          "base_uri": "https://localhost:8080/"
        },
        "id": "z2NkIYoSFOj_",
        "outputId": "deab9471-2067-4dbc-edf8-064acad94b02"
      },
      "execution_count": null,
      "outputs": [
        {
          "output_type": "execute_result",
          "data": {
            "text/plain": [
              "<keras.src.layers.core.dense.Dense at 0x7c9d8560d150>"
            ]
          },
          "metadata": {},
          "execution_count": 94
        }
      ]
    },
    {
      "cell_type": "code",
      "source": [
        "model.get_layer(index=0)"
      ],
      "metadata": {
        "colab": {
          "base_uri": "https://localhost:8080/"
        },
        "id": "0pDB5f_QGha0",
        "outputId": "22bb383b-ea5c-4ed1-ae75-e5665d0c1c40"
      },
      "execution_count": null,
      "outputs": [
        {
          "output_type": "execute_result",
          "data": {
            "text/plain": [
              "<keras.src.layers.core.dense.Dense at 0x7c9d8560d150>"
            ]
          },
          "metadata": {},
          "execution_count": 95
        }
      ]
    },
    {
      "cell_type": "code",
      "source": [
        "model.weights\n",
        "\n"
      ],
      "metadata": {
        "colab": {
          "base_uri": "https://localhost:8080/"
        },
        "id": "V_GaVsw4FQe5",
        "outputId": "0e03f7b2-1e7c-418c-c9d4-1e6871028026"
      },
      "execution_count": null,
      "outputs": [
        {
          "output_type": "execute_result",
          "data": {
            "text/plain": [
              "[<tf.Variable 'dense_7/kernel:0' shape=(784, 784) dtype=float32, numpy=\n",
              " array([[-0.03630842,  0.02805961, -0.05655671, ...,  0.00701023,\n",
              "          0.00583774,  0.00144808],\n",
              "        [ 0.03079486,  0.00314303,  0.03475754, ...,  0.03862151,\n",
              "          0.02571757,  0.04928209],\n",
              "        [-0.01102953,  0.01988769, -0.017155  , ..., -0.04235791,\n",
              "          0.0239479 ,  0.0559344 ],\n",
              "        ...,\n",
              "        [ 0.06056637, -0.039672  , -0.00432141, ...,  0.05055519,\n",
              "          0.00174964,  0.0314504 ],\n",
              "        [-0.00692174, -0.05808692,  0.01707523, ..., -0.02121172,\n",
              "          0.02736734,  0.0148134 ],\n",
              "        [-0.02539682,  0.01658586,  0.0458043 , ..., -0.01561895,\n",
              "          0.03489086,  0.00765968]], dtype=float32)>,\n",
              " <tf.Variable 'dense_7/bias:0' shape=(784,) dtype=float32, numpy=\n",
              " array([ 0.11158859,  0.1302935 , -0.06409152,  0.09572286, -0.14829658,\n",
              "         0.15071976,  0.01317546, -0.15106156, -0.07973759, -0.1299477 ,\n",
              "         0.04737985,  0.13587956, -0.10813607,  0.0512757 ,  0.09380275,\n",
              "         0.01770008, -0.05638011,  0.15479335,  0.06951502, -0.1326576 ,\n",
              "        -0.1258037 ,  0.01695854, -0.05789348, -0.12232968, -0.10777371,\n",
              "         0.00072461, -0.10268423,  0.05162725,  0.21198471,  0.00777853,\n",
              "         0.04305413,  0.08206009,  0.07951083,  0.18574777,  0.05858289,\n",
              "         0.04841847, -0.1956791 , -0.12859304,  0.07832094,  0.10890085,\n",
              "        -0.19005005, -0.02159155, -0.10273997,  0.05066942,  0.09822753,\n",
              "         0.14964797, -0.19473763,  0.13830352,  0.083941  , -0.16443494,\n",
              "         0.00059268, -0.09402948, -0.09014323,  0.07582494,  0.10670529,\n",
              "        -0.01738329, -0.01083868,  0.16866872,  0.08141067, -0.05699453,\n",
              "        -0.06202053, -0.10035259, -0.1653785 , -0.11387759, -0.21150468,\n",
              "        -0.06596786,  0.07376353,  0.21976882, -0.00391325, -0.15748264,\n",
              "         0.05171933,  0.11103636,  0.11619657, -0.0266426 ,  0.22387391,\n",
              "         0.08277977,  0.007603  , -0.02243223, -0.00759908,  0.20559563,\n",
              "        -0.13456063,  0.09972765, -0.038834  , -0.02754376, -0.01171534,\n",
              "        -0.02056574, -0.02769607, -0.04693469, -0.01311937, -0.04303793,\n",
              "        -0.21312645, -0.2054818 , -0.07655102,  0.06176936, -0.06010212,\n",
              "         0.03265179, -0.01303385, -0.00390841,  0.10455953,  0.10261448,\n",
              "        -0.16823313, -0.08679312, -0.09662377,  0.09926341, -0.1018027 ,\n",
              "        -0.05678587, -0.05594969,  0.18242672,  0.0158288 , -0.226654  ,\n",
              "         0.06804157, -0.0755185 ,  0.10973827, -0.2380044 , -0.10151315,\n",
              "        -0.00756331,  0.09356423,  0.0282756 ,  0.19136767, -0.01920297,\n",
              "        -0.11878322, -0.13783179, -0.01149948,  0.00069454, -0.12136246,\n",
              "        -0.18087663,  0.13316254,  0.21005319, -0.06268064,  0.03511188,\n",
              "        -0.1386198 , -0.18209778, -0.08164321,  0.01325052,  0.11342997,\n",
              "        -0.01239581, -0.15228175,  0.10911562,  0.02699671,  0.0350104 ,\n",
              "         0.1574648 ,  0.03746142, -0.05863436, -0.13931209,  0.04562763,\n",
              "        -0.03501832, -0.07227869, -0.10422911,  0.1876148 , -0.14591423,\n",
              "         0.06368758, -0.13112576, -0.10752034, -0.04050781, -0.05359562,\n",
              "        -0.13834286,  0.17411801,  0.07072589,  0.18165539, -0.00225825,\n",
              "         0.11003408, -0.04003379, -0.09293084,  0.02410817,  0.07454441,\n",
              "         0.06644511, -0.12145507, -0.04854112, -0.01324037,  0.04721358,\n",
              "         0.02973241, -0.08406188,  0.0310414 ,  0.00939061,  0.02329721,\n",
              "         0.00275144, -0.10261738,  0.2568807 ,  0.10196002,  0.13619033,\n",
              "        -0.17367883, -0.00960246,  0.08155571,  0.00580369, -0.06297193,\n",
              "         0.16450372, -0.01600598,  0.19102168,  0.25956485,  0.19608511,\n",
              "        -0.0290755 ,  0.16815363,  0.14588492,  0.02973513, -0.15654966,\n",
              "         0.00561532, -0.16475794, -0.03201398,  0.1713665 , -0.08953023,\n",
              "         0.07702328,  0.04232024,  0.22332393, -0.04905935,  0.14882039,\n",
              "         0.13945715,  0.01089443, -0.01195342,  0.07659975,  0.04222866,\n",
              "        -0.02212431, -0.02721848,  0.06412861,  0.04387673,  0.04585488,\n",
              "        -0.11983256,  0.12995696,  0.06334032,  0.17428431, -0.19136193,\n",
              "         0.03174003,  0.12625736, -0.05103807, -0.12249015,  0.04337123,\n",
              "        -0.00565466,  0.17811793,  0.03103535, -0.1551725 ,  0.00966235,\n",
              "         0.0213858 ,  0.15684158, -0.01371391,  0.00699144,  0.15862815,\n",
              "        -0.02144995,  0.05042492, -0.07686663,  0.00369523,  0.06128014,\n",
              "         0.15112141, -0.16073897, -0.16222823, -0.08958699,  0.02306455,\n",
              "         0.17174788,  0.08728909,  0.11734432, -0.06187744,  0.07621326,\n",
              "         0.18971795,  0.00813965, -0.09632699, -0.01963824, -0.00167786,\n",
              "         0.09248578,  0.08533133,  0.13362987, -0.04573671, -0.07036418,\n",
              "        -0.24394092,  0.09227643, -0.19591081,  0.02679088,  0.19885473,\n",
              "        -0.11777973, -0.23832832, -0.16864549,  0.15505011, -0.11375829,\n",
              "        -0.01952066,  0.06632172,  0.06770013, -0.15355179, -0.04998331,\n",
              "         0.02041123, -0.01937445, -0.09081896, -0.069166  , -0.05861354,\n",
              "        -0.13575432,  0.12226107,  0.02539542,  0.06975748,  0.16823593,\n",
              "        -0.02964628, -0.19817637,  0.14676592,  0.10950066,  0.02217754,\n",
              "        -0.09199463,  0.07742885,  0.18661006, -0.00509492, -0.11144245,\n",
              "        -0.13849533,  0.11072247,  0.03160685, -0.2206588 , -0.14390081,\n",
              "         0.08237521,  0.17129658,  0.00518735,  0.18939285,  0.07484856,\n",
              "        -0.17268811,  0.1736653 ,  0.10707086,  0.15477267, -0.00819906,\n",
              "         0.11476503,  0.15314157, -0.08804753, -0.02347976,  0.04020374,\n",
              "         0.05925097, -0.13291737, -0.03023524, -0.11141863,  0.04139199,\n",
              "        -0.08139586, -0.04979409, -0.10805313, -0.11344144,  0.11947092,\n",
              "        -0.11701589, -0.06554212,  0.07922713, -0.09758617,  0.08800435,\n",
              "         0.01682356, -0.07647754, -0.11605221,  0.08826049, -0.05823276,\n",
              "         0.0737512 ,  0.20961426,  0.0370551 ,  0.06748048, -0.03899036,\n",
              "        -0.17543262, -0.00286612,  0.11020807,  0.11316323, -0.17305009,\n",
              "         0.05844314,  0.05661707,  0.07620143, -0.05902553,  0.13877542,\n",
              "        -0.00099028,  0.0754958 , -0.15084279,  0.19205695, -0.03978622,\n",
              "        -0.03995127,  0.03380881,  0.02056821, -0.01345463,  0.03547629,\n",
              "         0.01162178,  0.1495975 ,  0.16308819,  0.04963904,  0.02951078,\n",
              "        -0.1679602 , -0.1166499 ,  0.04095887,  0.11014594, -0.05610618,\n",
              "         0.09920437, -0.17431055, -0.19801475, -0.06772316,  0.17167918,\n",
              "         0.09148911,  0.10242485,  0.02311122,  0.02327411, -0.0232173 ,\n",
              "        -0.11463524,  0.04027896, -0.06816249,  0.01910413, -0.05613842,\n",
              "        -0.0692645 , -0.00945956,  0.01276907,  0.09779633, -0.03992528,\n",
              "         0.04160366,  0.10156637,  0.05152838, -0.12355811,  0.19165736,\n",
              "        -0.00496191,  0.05051096, -0.00483727,  0.05686925, -0.09048929,\n",
              "         0.02506903,  0.03345592,  0.08884776, -0.01282692,  0.08464939,\n",
              "        -0.13969839,  0.07087016,  0.04064707, -0.10299505,  0.05524817,\n",
              "        -0.02974572, -0.08190923,  0.0564574 ,  0.02519114,  0.03660266,\n",
              "        -0.18152298,  0.09151059, -0.05063944,  0.14892724, -0.17792392,\n",
              "         0.16044928,  0.03088541,  0.05308109, -0.0302134 , -0.07079765,\n",
              "        -0.12301405,  0.05954636, -0.21790156,  0.00263583,  0.04599597,\n",
              "         0.07250961, -0.01206314,  0.12769945,  0.02463274, -0.06395105,\n",
              "         0.13782445, -0.01602879,  0.1298949 , -0.03191904, -0.08545984,\n",
              "         0.06233654, -0.00393292,  0.09604379, -0.02406451,  0.0780522 ,\n",
              "        -0.15435626, -0.06005315, -0.03649307,  0.00492983, -0.02423796,\n",
              "        -0.06783488, -0.03022217, -0.10350797, -0.01467039,  0.06818075,\n",
              "        -0.10898077, -0.16489165, -0.05473852, -0.08222485,  0.02619026,\n",
              "         0.18719822, -0.07298596, -0.216433  , -0.17899117, -0.10967453,\n",
              "        -0.1216227 , -0.027166  , -0.2530918 , -0.11222513, -0.08573611,\n",
              "         0.1383811 , -0.1429154 , -0.0567734 , -0.00280954, -0.12327953,\n",
              "         0.13280873,  0.24726747,  0.19256558, -0.18385266,  0.00826709,\n",
              "        -0.14673737, -0.11076696, -0.10628688,  0.10888874, -0.19416016,\n",
              "        -0.18855244, -0.07787295,  0.14179915, -0.19599068,  0.06679016,\n",
              "        -0.06846178, -0.02209286, -0.04579333, -0.01648045, -0.12311701,\n",
              "        -0.09505626, -0.14211766, -0.14659214, -0.11470912,  0.03686468,\n",
              "        -0.00049631, -0.01236214, -0.00765061,  0.21418682, -0.03948709,\n",
              "         0.02304214,  0.1706874 ,  0.12747054,  0.06335708, -0.23877661,\n",
              "        -0.02283359, -0.22063354,  0.16573495, -0.10025997, -0.08073663,\n",
              "         0.01702777,  0.16519767,  0.04447052,  0.09504993, -0.1342542 ,\n",
              "         0.05577127, -0.00225141,  0.16722466,  0.16364826,  0.19208613,\n",
              "         0.02979486,  0.01478985, -0.03106846, -0.04582661, -0.07443918,\n",
              "         0.19789524,  0.01409304,  0.01158306, -0.03629671, -0.02646232,\n",
              "         0.06898278,  0.21103068, -0.08594296, -0.02012072, -0.00420996,\n",
              "         0.1802128 ,  0.00695599, -0.06923633, -0.2176961 ,  0.11698476,\n",
              "         0.17069732, -0.07036535, -0.07838007,  0.05034171, -0.04730545,\n",
              "        -0.07872441,  0.0688836 ,  0.03898422, -0.05187201, -0.2069952 ,\n",
              "        -0.12338178,  0.09586581, -0.15115051,  0.15694146,  0.1284722 ,\n",
              "        -0.07906486,  0.01255344, -0.03239975,  0.12459718, -0.00588983,\n",
              "        -0.07247993,  0.05593376, -0.08384914, -0.04763053, -0.20711647,\n",
              "        -0.09937634,  0.09111269, -0.04048304, -0.16709009,  0.09543034,\n",
              "        -0.04819048, -0.10151476,  0.1347752 ,  0.19849864, -0.13984658,\n",
              "         0.04878039,  0.00056348, -0.07243623,  0.199666  ,  0.16196693,\n",
              "        -0.16460364, -0.15656476, -0.14063087,  0.09148984,  0.19537723,\n",
              "        -0.07018523,  0.22472425, -0.01128232,  0.01171635, -0.09789045,\n",
              "         0.00615507,  0.23396759, -0.01990624, -0.17312194, -0.01709388,\n",
              "        -0.1936047 , -0.17604236,  0.10484647, -0.21065296,  0.09480555,\n",
              "         0.02770222,  0.09324361,  0.078389  ,  0.10525725,  0.02303306,\n",
              "        -0.12427906, -0.06585936, -0.03773471, -0.00733991, -0.12507543,\n",
              "         0.02789028, -0.02976729,  0.01031973,  0.13907552,  0.19854368,\n",
              "        -0.02468644,  0.00191408, -0.01714366,  0.1033553 , -0.15147659,\n",
              "         0.04141106,  0.09996092,  0.17515197,  0.00575494, -0.18401287,\n",
              "         0.12289446, -0.06928045,  0.1455314 ,  0.14178525, -0.02888349,\n",
              "         0.20711064, -0.05457275,  0.02619765, -0.18527646,  0.08485218,\n",
              "         0.14478448,  0.07859261, -0.17911005,  0.03065742,  0.15474121,\n",
              "        -0.0359649 ,  0.09155479, -0.17916748,  0.02876302,  0.09015306,\n",
              "         0.08797   ,  0.1257437 ,  0.05337388,  0.04824838, -0.2057504 ,\n",
              "        -0.07676451, -0.11484063,  0.10187588,  0.06580132,  0.00905748,\n",
              "        -0.12035209,  0.10089514, -0.08037887,  0.02267196, -0.09099381,\n",
              "        -0.02419727,  0.02973247, -0.27254745,  0.10815004,  0.04412289,\n",
              "         0.15711686, -0.17834353,  0.05912896,  0.08500506, -0.06017319,\n",
              "        -0.18254012,  0.1134679 ,  0.10471614, -0.17558692,  0.01680336,\n",
              "         0.08830298,  0.0270306 , -0.10169039,  0.04171059,  0.04340253,\n",
              "        -0.13208926,  0.08329097, -0.20078596,  0.02693551, -0.0662619 ,\n",
              "         0.17227134, -0.06245962,  0.17956239, -0.09342082,  0.18866551,\n",
              "         0.13695638,  0.17680666,  0.07595611,  0.03028115,  0.14891362,\n",
              "        -0.11900541,  0.14415662,  0.03891582, -0.17301126,  0.04567382,\n",
              "         0.08451975, -0.17585884, -0.20742258, -0.02101489,  0.16668569,\n",
              "        -0.12061784, -0.09996872,  0.02421039,  0.04115599, -0.1170642 ,\n",
              "        -0.0265626 , -0.05508567, -0.1942938 , -0.08282866,  0.06749666,\n",
              "        -0.05591519,  0.02974539,  0.01138137,  0.0121101 , -0.10618921,\n",
              "         0.1007381 , -0.00879265,  0.1425387 ,  0.01137523,  0.1168795 ,\n",
              "        -0.13305424,  0.09900273,  0.00047726, -0.07807054, -0.00152942,\n",
              "         0.11016548, -0.08137232,  0.09199663,  0.15658435,  0.00856642,\n",
              "        -0.06757607,  0.18950313, -0.00064659,  0.02302452,  0.01439468,\n",
              "         0.19417937,  0.01942005,  0.1118307 ,  0.05166269, -0.20946757,\n",
              "        -0.04423282, -0.19520934,  0.09918249,  0.01922814, -0.20503157,\n",
              "        -0.02983577,  0.09632339,  0.1229753 , -0.03032058, -0.04285737,\n",
              "        -0.00357752, -0.10922864,  0.01236123, -0.08935452,  0.11600067,\n",
              "         0.18112844,  0.04770773, -0.06697711, -0.00989388,  0.00918987,\n",
              "        -0.02329177,  0.15674415, -0.1631379 ,  0.00644385,  0.10391022,\n",
              "        -0.16940883, -0.06519815, -0.15418464, -0.19102436, -0.10052811,\n",
              "        -0.09151743,  0.09992904, -0.17462362, -0.18062429], dtype=float32)>,\n",
              " <tf.Variable 'dense_8/kernel:0' shape=(784, 10) dtype=float32, numpy=\n",
              " array([[ 0.02239248, -0.0331813 ,  0.04246206, ...,  0.05964038,\n",
              "         -0.05516528, -0.29176095],\n",
              "        [-0.0463274 ,  0.07487278, -0.01933471, ...,  0.00619201,\n",
              "          0.00555873, -0.1937982 ],\n",
              "        [ 0.04898804,  0.13046895, -0.03174307, ...,  0.09069093,\n",
              "          0.04016904, -0.07099149],\n",
              "        ...,\n",
              "        [ 0.00472067, -0.14502124,  0.13396087, ...,  0.02633863,\n",
              "          0.00993718,  0.2554924 ],\n",
              "        [ 0.12473675,  0.11907073, -0.01928933, ...,  0.05948976,\n",
              "         -0.08654688,  0.07284153],\n",
              "        [ 0.05244292,  0.00732518,  0.04612904, ..., -0.02349664,\n",
              "          0.0727995 ,  0.19691144]], dtype=float32)>,\n",
              " <tf.Variable 'dense_8/bias:0' shape=(10,) dtype=float32, numpy=\n",
              " array([-0.05181267, -0.06004255, -0.05145669, -0.05557738, -0.05327318,\n",
              "        -0.11741554,  0.        , -0.05544771,  0.        , -0.2081929 ],\n",
              "       dtype=float32)>]"
            ]
          },
          "metadata": {},
          "execution_count": 98
        }
      ]
    },
    {
      "cell_type": "code",
      "source": [
        "model.get_weights()"
      ],
      "metadata": {
        "colab": {
          "base_uri": "https://localhost:8080/"
        },
        "id": "i9C-KkptGkN1",
        "outputId": "f9052291-1e76-4d8e-937e-02f2cd3f8494"
      },
      "execution_count": null,
      "outputs": [
        {
          "output_type": "execute_result",
          "data": {
            "text/plain": [
              "[array([[-0.03630842,  0.02805961, -0.05655671, ...,  0.00701023,\n",
              "          0.00583774,  0.00144808],\n",
              "        [ 0.03079486,  0.00314303,  0.03475754, ...,  0.03862151,\n",
              "          0.02571757,  0.04928209],\n",
              "        [-0.01102953,  0.01988769, -0.017155  , ..., -0.04235791,\n",
              "          0.0239479 ,  0.0559344 ],\n",
              "        ...,\n",
              "        [ 0.06056637, -0.039672  , -0.00432141, ...,  0.05055519,\n",
              "          0.00174964,  0.0314504 ],\n",
              "        [-0.00692174, -0.05808692,  0.01707523, ..., -0.02121172,\n",
              "          0.02736734,  0.0148134 ],\n",
              "        [-0.02539682,  0.01658586,  0.0458043 , ..., -0.01561895,\n",
              "          0.03489086,  0.00765968]], dtype=float32),\n",
              " array([ 0.11158859,  0.1302935 , -0.06409152,  0.09572286, -0.14829658,\n",
              "         0.15071976,  0.01317546, -0.15106156, -0.07973759, -0.1299477 ,\n",
              "         0.04737985,  0.13587956, -0.10813607,  0.0512757 ,  0.09380275,\n",
              "         0.01770008, -0.05638011,  0.15479335,  0.06951502, -0.1326576 ,\n",
              "        -0.1258037 ,  0.01695854, -0.05789348, -0.12232968, -0.10777371,\n",
              "         0.00072461, -0.10268423,  0.05162725,  0.21198471,  0.00777853,\n",
              "         0.04305413,  0.08206009,  0.07951083,  0.18574777,  0.05858289,\n",
              "         0.04841847, -0.1956791 , -0.12859304,  0.07832094,  0.10890085,\n",
              "        -0.19005005, -0.02159155, -0.10273997,  0.05066942,  0.09822753,\n",
              "         0.14964797, -0.19473763,  0.13830352,  0.083941  , -0.16443494,\n",
              "         0.00059268, -0.09402948, -0.09014323,  0.07582494,  0.10670529,\n",
              "        -0.01738329, -0.01083868,  0.16866872,  0.08141067, -0.05699453,\n",
              "        -0.06202053, -0.10035259, -0.1653785 , -0.11387759, -0.21150468,\n",
              "        -0.06596786,  0.07376353,  0.21976882, -0.00391325, -0.15748264,\n",
              "         0.05171933,  0.11103636,  0.11619657, -0.0266426 ,  0.22387391,\n",
              "         0.08277977,  0.007603  , -0.02243223, -0.00759908,  0.20559563,\n",
              "        -0.13456063,  0.09972765, -0.038834  , -0.02754376, -0.01171534,\n",
              "        -0.02056574, -0.02769607, -0.04693469, -0.01311937, -0.04303793,\n",
              "        -0.21312645, -0.2054818 , -0.07655102,  0.06176936, -0.06010212,\n",
              "         0.03265179, -0.01303385, -0.00390841,  0.10455953,  0.10261448,\n",
              "        -0.16823313, -0.08679312, -0.09662377,  0.09926341, -0.1018027 ,\n",
              "        -0.05678587, -0.05594969,  0.18242672,  0.0158288 , -0.226654  ,\n",
              "         0.06804157, -0.0755185 ,  0.10973827, -0.2380044 , -0.10151315,\n",
              "        -0.00756331,  0.09356423,  0.0282756 ,  0.19136767, -0.01920297,\n",
              "        -0.11878322, -0.13783179, -0.01149948,  0.00069454, -0.12136246,\n",
              "        -0.18087663,  0.13316254,  0.21005319, -0.06268064,  0.03511188,\n",
              "        -0.1386198 , -0.18209778, -0.08164321,  0.01325052,  0.11342997,\n",
              "        -0.01239581, -0.15228175,  0.10911562,  0.02699671,  0.0350104 ,\n",
              "         0.1574648 ,  0.03746142, -0.05863436, -0.13931209,  0.04562763,\n",
              "        -0.03501832, -0.07227869, -0.10422911,  0.1876148 , -0.14591423,\n",
              "         0.06368758, -0.13112576, -0.10752034, -0.04050781, -0.05359562,\n",
              "        -0.13834286,  0.17411801,  0.07072589,  0.18165539, -0.00225825,\n",
              "         0.11003408, -0.04003379, -0.09293084,  0.02410817,  0.07454441,\n",
              "         0.06644511, -0.12145507, -0.04854112, -0.01324037,  0.04721358,\n",
              "         0.02973241, -0.08406188,  0.0310414 ,  0.00939061,  0.02329721,\n",
              "         0.00275144, -0.10261738,  0.2568807 ,  0.10196002,  0.13619033,\n",
              "        -0.17367883, -0.00960246,  0.08155571,  0.00580369, -0.06297193,\n",
              "         0.16450372, -0.01600598,  0.19102168,  0.25956485,  0.19608511,\n",
              "        -0.0290755 ,  0.16815363,  0.14588492,  0.02973513, -0.15654966,\n",
              "         0.00561532, -0.16475794, -0.03201398,  0.1713665 , -0.08953023,\n",
              "         0.07702328,  0.04232024,  0.22332393, -0.04905935,  0.14882039,\n",
              "         0.13945715,  0.01089443, -0.01195342,  0.07659975,  0.04222866,\n",
              "        -0.02212431, -0.02721848,  0.06412861,  0.04387673,  0.04585488,\n",
              "        -0.11983256,  0.12995696,  0.06334032,  0.17428431, -0.19136193,\n",
              "         0.03174003,  0.12625736, -0.05103807, -0.12249015,  0.04337123,\n",
              "        -0.00565466,  0.17811793,  0.03103535, -0.1551725 ,  0.00966235,\n",
              "         0.0213858 ,  0.15684158, -0.01371391,  0.00699144,  0.15862815,\n",
              "        -0.02144995,  0.05042492, -0.07686663,  0.00369523,  0.06128014,\n",
              "         0.15112141, -0.16073897, -0.16222823, -0.08958699,  0.02306455,\n",
              "         0.17174788,  0.08728909,  0.11734432, -0.06187744,  0.07621326,\n",
              "         0.18971795,  0.00813965, -0.09632699, -0.01963824, -0.00167786,\n",
              "         0.09248578,  0.08533133,  0.13362987, -0.04573671, -0.07036418,\n",
              "        -0.24394092,  0.09227643, -0.19591081,  0.02679088,  0.19885473,\n",
              "        -0.11777973, -0.23832832, -0.16864549,  0.15505011, -0.11375829,\n",
              "        -0.01952066,  0.06632172,  0.06770013, -0.15355179, -0.04998331,\n",
              "         0.02041123, -0.01937445, -0.09081896, -0.069166  , -0.05861354,\n",
              "        -0.13575432,  0.12226107,  0.02539542,  0.06975748,  0.16823593,\n",
              "        -0.02964628, -0.19817637,  0.14676592,  0.10950066,  0.02217754,\n",
              "        -0.09199463,  0.07742885,  0.18661006, -0.00509492, -0.11144245,\n",
              "        -0.13849533,  0.11072247,  0.03160685, -0.2206588 , -0.14390081,\n",
              "         0.08237521,  0.17129658,  0.00518735,  0.18939285,  0.07484856,\n",
              "        -0.17268811,  0.1736653 ,  0.10707086,  0.15477267, -0.00819906,\n",
              "         0.11476503,  0.15314157, -0.08804753, -0.02347976,  0.04020374,\n",
              "         0.05925097, -0.13291737, -0.03023524, -0.11141863,  0.04139199,\n",
              "        -0.08139586, -0.04979409, -0.10805313, -0.11344144,  0.11947092,\n",
              "        -0.11701589, -0.06554212,  0.07922713, -0.09758617,  0.08800435,\n",
              "         0.01682356, -0.07647754, -0.11605221,  0.08826049, -0.05823276,\n",
              "         0.0737512 ,  0.20961426,  0.0370551 ,  0.06748048, -0.03899036,\n",
              "        -0.17543262, -0.00286612,  0.11020807,  0.11316323, -0.17305009,\n",
              "         0.05844314,  0.05661707,  0.07620143, -0.05902553,  0.13877542,\n",
              "        -0.00099028,  0.0754958 , -0.15084279,  0.19205695, -0.03978622,\n",
              "        -0.03995127,  0.03380881,  0.02056821, -0.01345463,  0.03547629,\n",
              "         0.01162178,  0.1495975 ,  0.16308819,  0.04963904,  0.02951078,\n",
              "        -0.1679602 , -0.1166499 ,  0.04095887,  0.11014594, -0.05610618,\n",
              "         0.09920437, -0.17431055, -0.19801475, -0.06772316,  0.17167918,\n",
              "         0.09148911,  0.10242485,  0.02311122,  0.02327411, -0.0232173 ,\n",
              "        -0.11463524,  0.04027896, -0.06816249,  0.01910413, -0.05613842,\n",
              "        -0.0692645 , -0.00945956,  0.01276907,  0.09779633, -0.03992528,\n",
              "         0.04160366,  0.10156637,  0.05152838, -0.12355811,  0.19165736,\n",
              "        -0.00496191,  0.05051096, -0.00483727,  0.05686925, -0.09048929,\n",
              "         0.02506903,  0.03345592,  0.08884776, -0.01282692,  0.08464939,\n",
              "        -0.13969839,  0.07087016,  0.04064707, -0.10299505,  0.05524817,\n",
              "        -0.02974572, -0.08190923,  0.0564574 ,  0.02519114,  0.03660266,\n",
              "        -0.18152298,  0.09151059, -0.05063944,  0.14892724, -0.17792392,\n",
              "         0.16044928,  0.03088541,  0.05308109, -0.0302134 , -0.07079765,\n",
              "        -0.12301405,  0.05954636, -0.21790156,  0.00263583,  0.04599597,\n",
              "         0.07250961, -0.01206314,  0.12769945,  0.02463274, -0.06395105,\n",
              "         0.13782445, -0.01602879,  0.1298949 , -0.03191904, -0.08545984,\n",
              "         0.06233654, -0.00393292,  0.09604379, -0.02406451,  0.0780522 ,\n",
              "        -0.15435626, -0.06005315, -0.03649307,  0.00492983, -0.02423796,\n",
              "        -0.06783488, -0.03022217, -0.10350797, -0.01467039,  0.06818075,\n",
              "        -0.10898077, -0.16489165, -0.05473852, -0.08222485,  0.02619026,\n",
              "         0.18719822, -0.07298596, -0.216433  , -0.17899117, -0.10967453,\n",
              "        -0.1216227 , -0.027166  , -0.2530918 , -0.11222513, -0.08573611,\n",
              "         0.1383811 , -0.1429154 , -0.0567734 , -0.00280954, -0.12327953,\n",
              "         0.13280873,  0.24726747,  0.19256558, -0.18385266,  0.00826709,\n",
              "        -0.14673737, -0.11076696, -0.10628688,  0.10888874, -0.19416016,\n",
              "        -0.18855244, -0.07787295,  0.14179915, -0.19599068,  0.06679016,\n",
              "        -0.06846178, -0.02209286, -0.04579333, -0.01648045, -0.12311701,\n",
              "        -0.09505626, -0.14211766, -0.14659214, -0.11470912,  0.03686468,\n",
              "        -0.00049631, -0.01236214, -0.00765061,  0.21418682, -0.03948709,\n",
              "         0.02304214,  0.1706874 ,  0.12747054,  0.06335708, -0.23877661,\n",
              "        -0.02283359, -0.22063354,  0.16573495, -0.10025997, -0.08073663,\n",
              "         0.01702777,  0.16519767,  0.04447052,  0.09504993, -0.1342542 ,\n",
              "         0.05577127, -0.00225141,  0.16722466,  0.16364826,  0.19208613,\n",
              "         0.02979486,  0.01478985, -0.03106846, -0.04582661, -0.07443918,\n",
              "         0.19789524,  0.01409304,  0.01158306, -0.03629671, -0.02646232,\n",
              "         0.06898278,  0.21103068, -0.08594296, -0.02012072, -0.00420996,\n",
              "         0.1802128 ,  0.00695599, -0.06923633, -0.2176961 ,  0.11698476,\n",
              "         0.17069732, -0.07036535, -0.07838007,  0.05034171, -0.04730545,\n",
              "        -0.07872441,  0.0688836 ,  0.03898422, -0.05187201, -0.2069952 ,\n",
              "        -0.12338178,  0.09586581, -0.15115051,  0.15694146,  0.1284722 ,\n",
              "        -0.07906486,  0.01255344, -0.03239975,  0.12459718, -0.00588983,\n",
              "        -0.07247993,  0.05593376, -0.08384914, -0.04763053, -0.20711647,\n",
              "        -0.09937634,  0.09111269, -0.04048304, -0.16709009,  0.09543034,\n",
              "        -0.04819048, -0.10151476,  0.1347752 ,  0.19849864, -0.13984658,\n",
              "         0.04878039,  0.00056348, -0.07243623,  0.199666  ,  0.16196693,\n",
              "        -0.16460364, -0.15656476, -0.14063087,  0.09148984,  0.19537723,\n",
              "        -0.07018523,  0.22472425, -0.01128232,  0.01171635, -0.09789045,\n",
              "         0.00615507,  0.23396759, -0.01990624, -0.17312194, -0.01709388,\n",
              "        -0.1936047 , -0.17604236,  0.10484647, -0.21065296,  0.09480555,\n",
              "         0.02770222,  0.09324361,  0.078389  ,  0.10525725,  0.02303306,\n",
              "        -0.12427906, -0.06585936, -0.03773471, -0.00733991, -0.12507543,\n",
              "         0.02789028, -0.02976729,  0.01031973,  0.13907552,  0.19854368,\n",
              "        -0.02468644,  0.00191408, -0.01714366,  0.1033553 , -0.15147659,\n",
              "         0.04141106,  0.09996092,  0.17515197,  0.00575494, -0.18401287,\n",
              "         0.12289446, -0.06928045,  0.1455314 ,  0.14178525, -0.02888349,\n",
              "         0.20711064, -0.05457275,  0.02619765, -0.18527646,  0.08485218,\n",
              "         0.14478448,  0.07859261, -0.17911005,  0.03065742,  0.15474121,\n",
              "        -0.0359649 ,  0.09155479, -0.17916748,  0.02876302,  0.09015306,\n",
              "         0.08797   ,  0.1257437 ,  0.05337388,  0.04824838, -0.2057504 ,\n",
              "        -0.07676451, -0.11484063,  0.10187588,  0.06580132,  0.00905748,\n",
              "        -0.12035209,  0.10089514, -0.08037887,  0.02267196, -0.09099381,\n",
              "        -0.02419727,  0.02973247, -0.27254745,  0.10815004,  0.04412289,\n",
              "         0.15711686, -0.17834353,  0.05912896,  0.08500506, -0.06017319,\n",
              "        -0.18254012,  0.1134679 ,  0.10471614, -0.17558692,  0.01680336,\n",
              "         0.08830298,  0.0270306 , -0.10169039,  0.04171059,  0.04340253,\n",
              "        -0.13208926,  0.08329097, -0.20078596,  0.02693551, -0.0662619 ,\n",
              "         0.17227134, -0.06245962,  0.17956239, -0.09342082,  0.18866551,\n",
              "         0.13695638,  0.17680666,  0.07595611,  0.03028115,  0.14891362,\n",
              "        -0.11900541,  0.14415662,  0.03891582, -0.17301126,  0.04567382,\n",
              "         0.08451975, -0.17585884, -0.20742258, -0.02101489,  0.16668569,\n",
              "        -0.12061784, -0.09996872,  0.02421039,  0.04115599, -0.1170642 ,\n",
              "        -0.0265626 , -0.05508567, -0.1942938 , -0.08282866,  0.06749666,\n",
              "        -0.05591519,  0.02974539,  0.01138137,  0.0121101 , -0.10618921,\n",
              "         0.1007381 , -0.00879265,  0.1425387 ,  0.01137523,  0.1168795 ,\n",
              "        -0.13305424,  0.09900273,  0.00047726, -0.07807054, -0.00152942,\n",
              "         0.11016548, -0.08137232,  0.09199663,  0.15658435,  0.00856642,\n",
              "        -0.06757607,  0.18950313, -0.00064659,  0.02302452,  0.01439468,\n",
              "         0.19417937,  0.01942005,  0.1118307 ,  0.05166269, -0.20946757,\n",
              "        -0.04423282, -0.19520934,  0.09918249,  0.01922814, -0.20503157,\n",
              "        -0.02983577,  0.09632339,  0.1229753 , -0.03032058, -0.04285737,\n",
              "        -0.00357752, -0.10922864,  0.01236123, -0.08935452,  0.11600067,\n",
              "         0.18112844,  0.04770773, -0.06697711, -0.00989388,  0.00918987,\n",
              "        -0.02329177,  0.15674415, -0.1631379 ,  0.00644385,  0.10391022,\n",
              "        -0.16940883, -0.06519815, -0.15418464, -0.19102436, -0.10052811,\n",
              "        -0.09151743,  0.09992904, -0.17462362, -0.18062429], dtype=float32),\n",
              " array([[ 0.02239248, -0.0331813 ,  0.04246206, ...,  0.05964038,\n",
              "         -0.05516528, -0.29176095],\n",
              "        [-0.0463274 ,  0.07487278, -0.01933471, ...,  0.00619201,\n",
              "          0.00555873, -0.1937982 ],\n",
              "        [ 0.04898804,  0.13046895, -0.03174307, ...,  0.09069093,\n",
              "          0.04016904, -0.07099149],\n",
              "        ...,\n",
              "        [ 0.00472067, -0.14502124,  0.13396087, ...,  0.02633863,\n",
              "          0.00993718,  0.2554924 ],\n",
              "        [ 0.12473675,  0.11907073, -0.01928933, ...,  0.05948976,\n",
              "         -0.08654688,  0.07284153],\n",
              "        [ 0.05244292,  0.00732518,  0.04612904, ..., -0.02349664,\n",
              "          0.0727995 ,  0.19691144]], dtype=float32),\n",
              " array([-0.05181267, -0.06004255, -0.05145669, -0.05557738, -0.05327318,\n",
              "        -0.11741554,  0.        , -0.05544771,  0.        , -0.2081929 ],\n",
              "       dtype=float32)]"
            ]
          },
          "metadata": {},
          "execution_count": 99
        }
      ]
    },
    {
      "cell_type": "code",
      "source": [
        "model.layers[0].weights\n",
        "model.layers[0].get_weights()"
      ],
      "metadata": {
        "colab": {
          "base_uri": "https://localhost:8080/"
        },
        "id": "n_wK5IJjGWTU",
        "outputId": "0a589ead-94df-4446-925d-de4e70739f5b"
      },
      "execution_count": null,
      "outputs": [
        {
          "output_type": "execute_result",
          "data": {
            "text/plain": [
              "[array([[-0.03630842,  0.02805961, -0.05655671, ...,  0.00701023,\n",
              "          0.00583774,  0.00144808],\n",
              "        [ 0.03079486,  0.00314303,  0.03475754, ...,  0.03862151,\n",
              "          0.02571757,  0.04928209],\n",
              "        [-0.01102953,  0.01988769, -0.017155  , ..., -0.04235791,\n",
              "          0.0239479 ,  0.0559344 ],\n",
              "        ...,\n",
              "        [ 0.06056637, -0.039672  , -0.00432141, ...,  0.05055519,\n",
              "          0.00174964,  0.0314504 ],\n",
              "        [-0.00692174, -0.05808692,  0.01707523, ..., -0.02121172,\n",
              "          0.02736734,  0.0148134 ],\n",
              "        [-0.02539682,  0.01658586,  0.0458043 , ..., -0.01561895,\n",
              "          0.03489086,  0.00765968]], dtype=float32),\n",
              " array([ 0.11158859,  0.1302935 , -0.06409152,  0.09572286, -0.14829658,\n",
              "         0.15071976,  0.01317546, -0.15106156, -0.07973759, -0.1299477 ,\n",
              "         0.04737985,  0.13587956, -0.10813607,  0.0512757 ,  0.09380275,\n",
              "         0.01770008, -0.05638011,  0.15479335,  0.06951502, -0.1326576 ,\n",
              "        -0.1258037 ,  0.01695854, -0.05789348, -0.12232968, -0.10777371,\n",
              "         0.00072461, -0.10268423,  0.05162725,  0.21198471,  0.00777853,\n",
              "         0.04305413,  0.08206009,  0.07951083,  0.18574777,  0.05858289,\n",
              "         0.04841847, -0.1956791 , -0.12859304,  0.07832094,  0.10890085,\n",
              "        -0.19005005, -0.02159155, -0.10273997,  0.05066942,  0.09822753,\n",
              "         0.14964797, -0.19473763,  0.13830352,  0.083941  , -0.16443494,\n",
              "         0.00059268, -0.09402948, -0.09014323,  0.07582494,  0.10670529,\n",
              "        -0.01738329, -0.01083868,  0.16866872,  0.08141067, -0.05699453,\n",
              "        -0.06202053, -0.10035259, -0.1653785 , -0.11387759, -0.21150468,\n",
              "        -0.06596786,  0.07376353,  0.21976882, -0.00391325, -0.15748264,\n",
              "         0.05171933,  0.11103636,  0.11619657, -0.0266426 ,  0.22387391,\n",
              "         0.08277977,  0.007603  , -0.02243223, -0.00759908,  0.20559563,\n",
              "        -0.13456063,  0.09972765, -0.038834  , -0.02754376, -0.01171534,\n",
              "        -0.02056574, -0.02769607, -0.04693469, -0.01311937, -0.04303793,\n",
              "        -0.21312645, -0.2054818 , -0.07655102,  0.06176936, -0.06010212,\n",
              "         0.03265179, -0.01303385, -0.00390841,  0.10455953,  0.10261448,\n",
              "        -0.16823313, -0.08679312, -0.09662377,  0.09926341, -0.1018027 ,\n",
              "        -0.05678587, -0.05594969,  0.18242672,  0.0158288 , -0.226654  ,\n",
              "         0.06804157, -0.0755185 ,  0.10973827, -0.2380044 , -0.10151315,\n",
              "        -0.00756331,  0.09356423,  0.0282756 ,  0.19136767, -0.01920297,\n",
              "        -0.11878322, -0.13783179, -0.01149948,  0.00069454, -0.12136246,\n",
              "        -0.18087663,  0.13316254,  0.21005319, -0.06268064,  0.03511188,\n",
              "        -0.1386198 , -0.18209778, -0.08164321,  0.01325052,  0.11342997,\n",
              "        -0.01239581, -0.15228175,  0.10911562,  0.02699671,  0.0350104 ,\n",
              "         0.1574648 ,  0.03746142, -0.05863436, -0.13931209,  0.04562763,\n",
              "        -0.03501832, -0.07227869, -0.10422911,  0.1876148 , -0.14591423,\n",
              "         0.06368758, -0.13112576, -0.10752034, -0.04050781, -0.05359562,\n",
              "        -0.13834286,  0.17411801,  0.07072589,  0.18165539, -0.00225825,\n",
              "         0.11003408, -0.04003379, -0.09293084,  0.02410817,  0.07454441,\n",
              "         0.06644511, -0.12145507, -0.04854112, -0.01324037,  0.04721358,\n",
              "         0.02973241, -0.08406188,  0.0310414 ,  0.00939061,  0.02329721,\n",
              "         0.00275144, -0.10261738,  0.2568807 ,  0.10196002,  0.13619033,\n",
              "        -0.17367883, -0.00960246,  0.08155571,  0.00580369, -0.06297193,\n",
              "         0.16450372, -0.01600598,  0.19102168,  0.25956485,  0.19608511,\n",
              "        -0.0290755 ,  0.16815363,  0.14588492,  0.02973513, -0.15654966,\n",
              "         0.00561532, -0.16475794, -0.03201398,  0.1713665 , -0.08953023,\n",
              "         0.07702328,  0.04232024,  0.22332393, -0.04905935,  0.14882039,\n",
              "         0.13945715,  0.01089443, -0.01195342,  0.07659975,  0.04222866,\n",
              "        -0.02212431, -0.02721848,  0.06412861,  0.04387673,  0.04585488,\n",
              "        -0.11983256,  0.12995696,  0.06334032,  0.17428431, -0.19136193,\n",
              "         0.03174003,  0.12625736, -0.05103807, -0.12249015,  0.04337123,\n",
              "        -0.00565466,  0.17811793,  0.03103535, -0.1551725 ,  0.00966235,\n",
              "         0.0213858 ,  0.15684158, -0.01371391,  0.00699144,  0.15862815,\n",
              "        -0.02144995,  0.05042492, -0.07686663,  0.00369523,  0.06128014,\n",
              "         0.15112141, -0.16073897, -0.16222823, -0.08958699,  0.02306455,\n",
              "         0.17174788,  0.08728909,  0.11734432, -0.06187744,  0.07621326,\n",
              "         0.18971795,  0.00813965, -0.09632699, -0.01963824, -0.00167786,\n",
              "         0.09248578,  0.08533133,  0.13362987, -0.04573671, -0.07036418,\n",
              "        -0.24394092,  0.09227643, -0.19591081,  0.02679088,  0.19885473,\n",
              "        -0.11777973, -0.23832832, -0.16864549,  0.15505011, -0.11375829,\n",
              "        -0.01952066,  0.06632172,  0.06770013, -0.15355179, -0.04998331,\n",
              "         0.02041123, -0.01937445, -0.09081896, -0.069166  , -0.05861354,\n",
              "        -0.13575432,  0.12226107,  0.02539542,  0.06975748,  0.16823593,\n",
              "        -0.02964628, -0.19817637,  0.14676592,  0.10950066,  0.02217754,\n",
              "        -0.09199463,  0.07742885,  0.18661006, -0.00509492, -0.11144245,\n",
              "        -0.13849533,  0.11072247,  0.03160685, -0.2206588 , -0.14390081,\n",
              "         0.08237521,  0.17129658,  0.00518735,  0.18939285,  0.07484856,\n",
              "        -0.17268811,  0.1736653 ,  0.10707086,  0.15477267, -0.00819906,\n",
              "         0.11476503,  0.15314157, -0.08804753, -0.02347976,  0.04020374,\n",
              "         0.05925097, -0.13291737, -0.03023524, -0.11141863,  0.04139199,\n",
              "        -0.08139586, -0.04979409, -0.10805313, -0.11344144,  0.11947092,\n",
              "        -0.11701589, -0.06554212,  0.07922713, -0.09758617,  0.08800435,\n",
              "         0.01682356, -0.07647754, -0.11605221,  0.08826049, -0.05823276,\n",
              "         0.0737512 ,  0.20961426,  0.0370551 ,  0.06748048, -0.03899036,\n",
              "        -0.17543262, -0.00286612,  0.11020807,  0.11316323, -0.17305009,\n",
              "         0.05844314,  0.05661707,  0.07620143, -0.05902553,  0.13877542,\n",
              "        -0.00099028,  0.0754958 , -0.15084279,  0.19205695, -0.03978622,\n",
              "        -0.03995127,  0.03380881,  0.02056821, -0.01345463,  0.03547629,\n",
              "         0.01162178,  0.1495975 ,  0.16308819,  0.04963904,  0.02951078,\n",
              "        -0.1679602 , -0.1166499 ,  0.04095887,  0.11014594, -0.05610618,\n",
              "         0.09920437, -0.17431055, -0.19801475, -0.06772316,  0.17167918,\n",
              "         0.09148911,  0.10242485,  0.02311122,  0.02327411, -0.0232173 ,\n",
              "        -0.11463524,  0.04027896, -0.06816249,  0.01910413, -0.05613842,\n",
              "        -0.0692645 , -0.00945956,  0.01276907,  0.09779633, -0.03992528,\n",
              "         0.04160366,  0.10156637,  0.05152838, -0.12355811,  0.19165736,\n",
              "        -0.00496191,  0.05051096, -0.00483727,  0.05686925, -0.09048929,\n",
              "         0.02506903,  0.03345592,  0.08884776, -0.01282692,  0.08464939,\n",
              "        -0.13969839,  0.07087016,  0.04064707, -0.10299505,  0.05524817,\n",
              "        -0.02974572, -0.08190923,  0.0564574 ,  0.02519114,  0.03660266,\n",
              "        -0.18152298,  0.09151059, -0.05063944,  0.14892724, -0.17792392,\n",
              "         0.16044928,  0.03088541,  0.05308109, -0.0302134 , -0.07079765,\n",
              "        -0.12301405,  0.05954636, -0.21790156,  0.00263583,  0.04599597,\n",
              "         0.07250961, -0.01206314,  0.12769945,  0.02463274, -0.06395105,\n",
              "         0.13782445, -0.01602879,  0.1298949 , -0.03191904, -0.08545984,\n",
              "         0.06233654, -0.00393292,  0.09604379, -0.02406451,  0.0780522 ,\n",
              "        -0.15435626, -0.06005315, -0.03649307,  0.00492983, -0.02423796,\n",
              "        -0.06783488, -0.03022217, -0.10350797, -0.01467039,  0.06818075,\n",
              "        -0.10898077, -0.16489165, -0.05473852, -0.08222485,  0.02619026,\n",
              "         0.18719822, -0.07298596, -0.216433  , -0.17899117, -0.10967453,\n",
              "        -0.1216227 , -0.027166  , -0.2530918 , -0.11222513, -0.08573611,\n",
              "         0.1383811 , -0.1429154 , -0.0567734 , -0.00280954, -0.12327953,\n",
              "         0.13280873,  0.24726747,  0.19256558, -0.18385266,  0.00826709,\n",
              "        -0.14673737, -0.11076696, -0.10628688,  0.10888874, -0.19416016,\n",
              "        -0.18855244, -0.07787295,  0.14179915, -0.19599068,  0.06679016,\n",
              "        -0.06846178, -0.02209286, -0.04579333, -0.01648045, -0.12311701,\n",
              "        -0.09505626, -0.14211766, -0.14659214, -0.11470912,  0.03686468,\n",
              "        -0.00049631, -0.01236214, -0.00765061,  0.21418682, -0.03948709,\n",
              "         0.02304214,  0.1706874 ,  0.12747054,  0.06335708, -0.23877661,\n",
              "        -0.02283359, -0.22063354,  0.16573495, -0.10025997, -0.08073663,\n",
              "         0.01702777,  0.16519767,  0.04447052,  0.09504993, -0.1342542 ,\n",
              "         0.05577127, -0.00225141,  0.16722466,  0.16364826,  0.19208613,\n",
              "         0.02979486,  0.01478985, -0.03106846, -0.04582661, -0.07443918,\n",
              "         0.19789524,  0.01409304,  0.01158306, -0.03629671, -0.02646232,\n",
              "         0.06898278,  0.21103068, -0.08594296, -0.02012072, -0.00420996,\n",
              "         0.1802128 ,  0.00695599, -0.06923633, -0.2176961 ,  0.11698476,\n",
              "         0.17069732, -0.07036535, -0.07838007,  0.05034171, -0.04730545,\n",
              "        -0.07872441,  0.0688836 ,  0.03898422, -0.05187201, -0.2069952 ,\n",
              "        -0.12338178,  0.09586581, -0.15115051,  0.15694146,  0.1284722 ,\n",
              "        -0.07906486,  0.01255344, -0.03239975,  0.12459718, -0.00588983,\n",
              "        -0.07247993,  0.05593376, -0.08384914, -0.04763053, -0.20711647,\n",
              "        -0.09937634,  0.09111269, -0.04048304, -0.16709009,  0.09543034,\n",
              "        -0.04819048, -0.10151476,  0.1347752 ,  0.19849864, -0.13984658,\n",
              "         0.04878039,  0.00056348, -0.07243623,  0.199666  ,  0.16196693,\n",
              "        -0.16460364, -0.15656476, -0.14063087,  0.09148984,  0.19537723,\n",
              "        -0.07018523,  0.22472425, -0.01128232,  0.01171635, -0.09789045,\n",
              "         0.00615507,  0.23396759, -0.01990624, -0.17312194, -0.01709388,\n",
              "        -0.1936047 , -0.17604236,  0.10484647, -0.21065296,  0.09480555,\n",
              "         0.02770222,  0.09324361,  0.078389  ,  0.10525725,  0.02303306,\n",
              "        -0.12427906, -0.06585936, -0.03773471, -0.00733991, -0.12507543,\n",
              "         0.02789028, -0.02976729,  0.01031973,  0.13907552,  0.19854368,\n",
              "        -0.02468644,  0.00191408, -0.01714366,  0.1033553 , -0.15147659,\n",
              "         0.04141106,  0.09996092,  0.17515197,  0.00575494, -0.18401287,\n",
              "         0.12289446, -0.06928045,  0.1455314 ,  0.14178525, -0.02888349,\n",
              "         0.20711064, -0.05457275,  0.02619765, -0.18527646,  0.08485218,\n",
              "         0.14478448,  0.07859261, -0.17911005,  0.03065742,  0.15474121,\n",
              "        -0.0359649 ,  0.09155479, -0.17916748,  0.02876302,  0.09015306,\n",
              "         0.08797   ,  0.1257437 ,  0.05337388,  0.04824838, -0.2057504 ,\n",
              "        -0.07676451, -0.11484063,  0.10187588,  0.06580132,  0.00905748,\n",
              "        -0.12035209,  0.10089514, -0.08037887,  0.02267196, -0.09099381,\n",
              "        -0.02419727,  0.02973247, -0.27254745,  0.10815004,  0.04412289,\n",
              "         0.15711686, -0.17834353,  0.05912896,  0.08500506, -0.06017319,\n",
              "        -0.18254012,  0.1134679 ,  0.10471614, -0.17558692,  0.01680336,\n",
              "         0.08830298,  0.0270306 , -0.10169039,  0.04171059,  0.04340253,\n",
              "        -0.13208926,  0.08329097, -0.20078596,  0.02693551, -0.0662619 ,\n",
              "         0.17227134, -0.06245962,  0.17956239, -0.09342082,  0.18866551,\n",
              "         0.13695638,  0.17680666,  0.07595611,  0.03028115,  0.14891362,\n",
              "        -0.11900541,  0.14415662,  0.03891582, -0.17301126,  0.04567382,\n",
              "         0.08451975, -0.17585884, -0.20742258, -0.02101489,  0.16668569,\n",
              "        -0.12061784, -0.09996872,  0.02421039,  0.04115599, -0.1170642 ,\n",
              "        -0.0265626 , -0.05508567, -0.1942938 , -0.08282866,  0.06749666,\n",
              "        -0.05591519,  0.02974539,  0.01138137,  0.0121101 , -0.10618921,\n",
              "         0.1007381 , -0.00879265,  0.1425387 ,  0.01137523,  0.1168795 ,\n",
              "        -0.13305424,  0.09900273,  0.00047726, -0.07807054, -0.00152942,\n",
              "         0.11016548, -0.08137232,  0.09199663,  0.15658435,  0.00856642,\n",
              "        -0.06757607,  0.18950313, -0.00064659,  0.02302452,  0.01439468,\n",
              "         0.19417937,  0.01942005,  0.1118307 ,  0.05166269, -0.20946757,\n",
              "        -0.04423282, -0.19520934,  0.09918249,  0.01922814, -0.20503157,\n",
              "        -0.02983577,  0.09632339,  0.1229753 , -0.03032058, -0.04285737,\n",
              "        -0.00357752, -0.10922864,  0.01236123, -0.08935452,  0.11600067,\n",
              "         0.18112844,  0.04770773, -0.06697711, -0.00989388,  0.00918987,\n",
              "        -0.02329177,  0.15674415, -0.1631379 ,  0.00644385,  0.10391022,\n",
              "        -0.16940883, -0.06519815, -0.15418464, -0.19102436, -0.10052811,\n",
              "        -0.09151743,  0.09992904, -0.17462362, -0.18062429], dtype=float32)]"
            ]
          },
          "metadata": {},
          "execution_count": 100
        }
      ]
    },
    {
      "cell_type": "code",
      "source": [
        "model.pop()\n"
      ],
      "metadata": {
        "id": "QjPVj_elGaHN"
      },
      "execution_count": null,
      "outputs": []
    },
    {
      "cell_type": "code",
      "source": [
        "del model\n"
      ],
      "metadata": {
        "id": "-qIHrwu4HS0C"
      },
      "execution_count": null,
      "outputs": []
    },
    {
      "cell_type": "code",
      "source": [
        "model_BT2 = Sequential()\n",
        "from keras.layers import Dense\n",
        "model_BT2.add(Dense(784, input_shape=(784, ),activation='relu'))\n",
        "model_BT2.add(Dense(10, input_shape=(784, ),activation='sigmoid'))\n",
        "model_BT2.summary()"
      ],
      "metadata": {
        "colab": {
          "base_uri": "https://localhost:8080/"
        },
        "id": "19VTpujlHUGM",
        "outputId": "7c2f6de7-8e65-453c-8f1b-5abc9ba97784"
      },
      "execution_count": null,
      "outputs": [
        {
          "output_type": "stream",
          "name": "stdout",
          "text": [
            "Model: \"sequential_5\"\n",
            "_________________________________________________________________\n",
            " Layer (type)                Output Shape              Param #   \n",
            "=================================================================\n",
            " dense_12 (Dense)            (None, 784)               615440    \n",
            "                                                                 \n",
            " dense_13 (Dense)            (None, 10)                7850      \n",
            "                                                                 \n",
            "=================================================================\n",
            "Total params: 623290 (2.38 MB)\n",
            "Trainable params: 623290 (2.38 MB)\n",
            "Non-trainable params: 0 (0.00 Byte)\n",
            "_________________________________________________________________\n"
          ]
        }
      ]
    },
    {
      "cell_type": "code",
      "source": [],
      "metadata": {
        "id": "bdIm4lJAH6kz"
      },
      "execution_count": null,
      "outputs": []
    },
    {
      "cell_type": "code",
      "source": [
        "#chuẩn hóa thang mau tu 255 thanh 0 toi 1\n",
        "X_train_new = X_train/255.0\n",
        "X_test_new = X_test/255.0\n"
      ],
      "metadata": {
        "id": "kZY5t3-IINP_"
      },
      "execution_count": null,
      "outputs": []
    },
    {
      "cell_type": "code",
      "source": [
        "X_train_new_reshape = X_train_new.reshape(-1,784)\n",
        "X_test_new_reshape = X_test_new.reshape(-1,784)"
      ],
      "metadata": {
        "id": "TjQQxvmVIPl2"
      },
      "execution_count": null,
      "outputs": []
    },
    {
      "cell_type": "code",
      "source": [
        "optimizer = Adam(learning_rate=0.025)"
      ],
      "metadata": {
        "id": "Hv9pag7MJRnl"
      },
      "execution_count": null,
      "outputs": []
    },
    {
      "cell_type": "code",
      "source": [
        "model_BT2.compile(optimizer=optimizer,loss=loss,metrics=['accuracy'])"
      ],
      "metadata": {
        "id": "yVCVJjyqItib"
      },
      "execution_count": null,
      "outputs": []
    },
    {
      "cell_type": "code",
      "source": [
        "model_BT2.fit(X_train_new_reshape, y_train, batch_size=128,epochs=10)"
      ],
      "metadata": {
        "colab": {
          "base_uri": "https://localhost:8080/"
        },
        "id": "n3bCJfDJJGn6",
        "outputId": "b9a9eb5b-295b-4620-b590-a59201c9de16"
      },
      "execution_count": null,
      "outputs": [
        {
          "output_type": "stream",
          "name": "stdout",
          "text": [
            "Epoch 1/10\n",
            "469/469 [==============================] - 5s 4ms/step - loss: 0.0561 - accuracy: 0.9303\n",
            "Epoch 2/10\n",
            "469/469 [==============================] - 2s 3ms/step - loss: 0.0258 - accuracy: 0.9650\n",
            "Epoch 3/10\n",
            "469/469 [==============================] - 2s 3ms/step - loss: 0.0232 - accuracy: 0.9696\n",
            "Epoch 4/10\n",
            "469/469 [==============================] - 2s 3ms/step - loss: 0.0208 - accuracy: 0.9741\n",
            "Epoch 5/10\n",
            "469/469 [==============================] - 2s 3ms/step - loss: 0.0204 - accuracy: 0.9755\n",
            "Epoch 6/10\n",
            "469/469 [==============================] - 2s 3ms/step - loss: 0.0179 - accuracy: 0.9784\n",
            "Epoch 7/10\n",
            "469/469 [==============================] - 2s 3ms/step - loss: 0.0188 - accuracy: 0.9777\n",
            "Epoch 8/10\n",
            "469/469 [==============================] - 2s 4ms/step - loss: 0.0173 - accuracy: 0.9802\n",
            "Epoch 9/10\n",
            "469/469 [==============================] - 2s 4ms/step - loss: 0.0168 - accuracy: 0.9813\n",
            "Epoch 10/10\n",
            "469/469 [==============================] - 2s 3ms/step - loss: 0.0166 - accuracy: 0.9809\n"
          ]
        },
        {
          "output_type": "execute_result",
          "data": {
            "text/plain": [
              "<keras.src.callbacks.History at 0x7c9d8654bc10>"
            ]
          },
          "metadata": {},
          "execution_count": 116
        }
      ]
    },
    {
      "cell_type": "code",
      "source": [
        "y_pred_new = model_BT2.predict(X_test_new_reshape)\n",
        "y_pred_new_label =  np.argmax(y_pred_new, axis=-1)"
      ],
      "metadata": {
        "colab": {
          "base_uri": "https://localhost:8080/"
        },
        "id": "3CZbAu_ZJpFL",
        "outputId": "6ca0e5c8-dfe2-4870-8179-7a822236c94a"
      },
      "execution_count": null,
      "outputs": [
        {
          "output_type": "stream",
          "name": "stdout",
          "text": [
            "313/313 [==============================] - 1s 3ms/step\n"
          ]
        }
      ]
    },
    {
      "cell_type": "code",
      "source": [
        "from sklearn.metrics import accuracy_score\n",
        "accuracy_score(y_test, y_pred_new_label)*100"
      ],
      "metadata": {
        "colab": {
          "base_uri": "https://localhost:8080/"
        },
        "id": "U3uLS8GuKVYr",
        "outputId": "9b48643d-bd10-4a6a-da31-57af8c63a5de"
      },
      "execution_count": null,
      "outputs": [
        {
          "output_type": "execute_result",
          "data": {
            "text/plain": [
              "96.17"
            ]
          },
          "metadata": {},
          "execution_count": 119
        }
      ]
    },
    {
      "cell_type": "code",
      "source": [
        "import seaborn as sns\n",
        "from sklearn.metrics import confusion_matrix, f1_score, mean_absolute_error, make_scorer\n",
        "\n",
        "# Showing Confusion Matrix\n",
        "\n",
        "def plot_cm(y_true, y_pred, title):\n",
        "    figsize=(14,14)\n",
        "    #y_pred = y_pred.astype(int)\n",
        "    cm = confusion_matrix(y_true, y_pred, labels=np.unique(y_true))\n",
        "    cm_sum = np.sum(cm, axis=1, keepdims=True)\n",
        "    cm_perc = cm / cm_sum.astype(float) * 100\n",
        "    annot = np.empty_like(cm).astype(str)\n",
        "    nrows, ncols = cm.shape\n",
        "    for i in range(nrows):\n",
        "        for j in range(ncols):\n",
        "            c = cm[i, j]\n",
        "            p = cm_perc[i, j]\n",
        "            if i == j:\n",
        "                s = cm_sum[i]\n",
        "                annot[i, j] = '%.1f%%\\n%d/%d' % (p, c, s)\n",
        "            elif c == 0:\n",
        "                annot[i, j] = ''\n",
        "            else:\n",
        "                annot[i, j] = '%.1f%%\\n%d' % (p, c)\n",
        "    cm = pd.DataFrame(cm, index=np.unique(y_true), columns=np.unique(y_true))\n",
        "    cm.index.name = 'Actual'\n",
        "    cm.columns.name = 'Predicted'\n",
        "    fig, ax = plt.subplots(figsize=figsize)\n",
        "    plt.title(title)\n",
        "    sns.heatmap(cm, cmap= \"YlGnBu\", annot=annot, fmt='', ax=ax)\n",
        "\n",
        "plot_cm(y_test,y_pred_new_label, 'Confusion matrix for predictions on the validation set')\n",
        "f1_score(y_test,y_pred_new_label, average = 'macro')"
      ],
      "metadata": {
        "colab": {
          "base_uri": "https://localhost:8080/",
          "height": 924
        },
        "id": "HQlvhkJoKmCl",
        "outputId": "c302d5ab-b653-4bbe-86be-9e2100580041"
      },
      "execution_count": null,
      "outputs": [
        {
          "output_type": "execute_result",
          "data": {
            "text/plain": [
              "0.9614286430498735"
            ]
          },
          "metadata": {},
          "execution_count": 120
        },
        {
          "output_type": "display_data",
          "data": {
            "text/plain": [
              "<Figure size 1400x1400 with 2 Axes>"
            ],
            "image/png": "[encoded data removed]"
          },
          "metadata": {}
        }
      ]
    },
    {
      "cell_type": "code",
      "source": [],
      "metadata": {
        "id": "n64LerCgLieC"
      },
      "execution_count": null,
      "outputs": []
    }
  ],
  "metadata": {
    "colab": {
      "provenance": [],
      "gpuType": "T4",
      "authorship_tag": "ABX9TyOVvxgh98+sy6DbrF87LjWR",
      "include_colab_link": true
    },
    "kernelspec": {
      "display_name": "Python 3",
      "name": "python3"
    },
    "language_info": {
      "name": "python"
    },
    "accelerator": "GPU"
  },
  "nbformat": 4,
  "nbformat_minor": 0
}